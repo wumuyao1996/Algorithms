{
 "cells": [
  {
   "cell_type": "markdown",
   "metadata": {},
   "source": [
    "    PatternCount(Text, Pattern)\n",
    "        count ← 0\n",
    "        for i ← 0 to |Text| − |Pattern|\n",
    "            if Text(i, |Pattern|) = Pattern\n",
    "                count ← count + 1\n",
    "        return count"
   ]
  },
  {
   "cell_type": "code",
   "execution_count": 4,
   "metadata": {
    "collapsed": false
   },
   "outputs": [],
   "source": [
    "def pc (txt, ptn):\n",
    "    ct = 0\n",
    "    i=0\n",
    "    tl = len(txt)\n",
    "    pl = len(ptn)\n",
    "    k =  int (tl- pl)\n",
    "    for x in range(0, k+1):\n",
    "        if txt [x:x+pl]  == ptn:\n",
    "            ct = ct+1\n",
    "    return ct\n",
    "            \n",
    "            "
   ]
  },
  {
   "cell_type": "code",
   "execution_count": 5,
   "metadata": {
    "collapsed": false
   },
   "outputs": [
    {
     "data": {
      "text/plain": [
       "31"
      ]
     },
     "execution_count": 5,
     "metadata": {},
     "output_type": "execute_result"
    }
   ],
   "source": [
    "txt = 'TCTCACTCCGCATACTAGAATCTCCGCAACTCCGCAGCTCCGCAATCTCCGCAATACGGGAACCTCCGCACCACCTGGATCTCCGCACTCCGCATTTACTCCGCACCTCCGCATCTCCGCACTCGATTGACTCCGCACTCCGCACTGCTCCGCATACTCTCCGCATGTTCTCCGCACTCCGCATCTCCGCATTCCTTCTCCGCACTCCGCACTCCGCAAGCTCCGCACTCCGCAAAGCTAGGGGCGCTTCCTCCGCATAACTCCGCAGGCCTCCGCAGAGCTCCGCACTCCGCACTCCGCAACTCCGCAGCAATTCTCCGCACTCCGCAGTCTCCGCAGTACTGCCACTCCGCATACAAGTGTATCTCCGCACTCCGCACTCCGCAGGCTCCGCAGTCTCCGCACGCTCCGCACGACTGAACTCCGCAGGGCGCCGGCTCCGCACTCCGCATCTCCGCAAACGTCTCCGCAGCTCCGCAGGGCTCCGCACCTCCGCATCTCCGCACTCCGCAGACTGGTCTCCGCACTCCGCAGGCATACTCCGCAAGTACTCCGCATGTCTCCGCAGTACTCCGCACTCCGCACTCCGCATGGCTCCGCACTCCGCATCGTCCTCCGCACCCTCCGCAACTCCGCACTCCGCAATCTCCGCAGGGTTCAAGCTCCGCAAGCTCCGCAGTGAGCCGTTGCACCCTGCTCCGCAAGCGGACTCCGCACTCCGCACTCCGCACTCCGCACTCCGCACCTCCGCACCAATCAGCTCCGCATCTCCGCACTCCGCACTCCGCAAACCAAGCGCTTACTCAACCCGCCTTGTCTCCGCAGGGCCATCTCCGCAAGCTCCGCACTCCGCACCCGTCTCCGCATCTCCGCAACCAACTCCGCAGGTGGGGCTCCGCACTCCGCATCTCCGCACTCCGCAATCCTCCGCATCTCCGCAGCCTCCGCACGCTGTGCTCCGCACTCCGCACAGCTCCGCAGCTCCGCACTCCGCAC'\n",
    "ptn = 'CTCCGCACT'\n",
    "pc(txt, ptn)"
   ]
  },
  {
   "cell_type": "markdown",
   "metadata": {
    "collapsed": true
   },
   "source": [
    "We say that Pattern is a most frequent k-mer in Text if it maximizes Count(Text, Pattern) among all k-mers. For example, \"ACTAT\" is a most frequent 5-mer in \"ACAACTATGCATCACTATCGGGAACTATCCT\", and \"ATA\" is a most frequent 3-mer of \"CGATATATCCATAG\".\n",
    "\n",
    "Frequent Words Problem\n",
    "Find the most frequent k-mers in a string.\n",
    "\n",
    "Given: A DNA string Text and an integer k.\n",
    "\n",
    "Return: All most frequent k-mers in Text (in any order).\n",
    "\n"
   ]
  },
  {
   "cell_type": "code",
   "execution_count": 40,
   "metadata": {
    "collapsed": false
   },
   "outputs": [],
   "source": [
    "def fw (txt, k):\n",
    "    frequentPatterns = []\n",
    "    count = []\n",
    "    for i in range (0, len(txt)-k):\n",
    "        pattern = txt[i: i+k]\n",
    "        count.append (pc (txt, pattern))\n",
    "    maxCount = max(count)\n",
    "    \n",
    "    for i in range (0, len(txt)-k):\n",
    "        if count[i] == maxCount:\n",
    "            frequentPatterns.append(txt[i:i+k])\n",
    "            \n",
    "    setfq = list(set(frequentPatterns))\n",
    "    return setfq\n",
    "\n",
    "        \n",
    "        "
   ]
  },
  {
   "cell_type": "code",
   "execution_count": 43,
   "metadata": {
    "collapsed": false
   },
   "outputs": [
    {
     "name": "stdout",
     "output_type": "stream",
     "text": [
      "CGCGAGAGGTCG\n",
      " \n",
      "CGAGAGGTCGCC\n",
      " \n",
      "GAGAGGTCGCCA\n",
      " \n",
      "GCGAGAGGTCGC\n",
      " \n"
     ]
    }
   ],
   "source": [
    "txt = 'GCGAACTTATCAATAGGAGAAGTCGCGAACTTGTCGCCAATCAATAGGTCGCCACGCGAGAGGTCGCCAGTCGCCAGCGAACTTCGCGAGAGGCGAACTTGCGAACTTGTCGCCAGCGAACTTCGCGAGAGGCGAACTTATCAATAGATCAATAGGAGAAGTCGCGAACTTCGCGAGAGGCGAACTTGCGAACTTCGCGAGAGGTCGCCAGTCGCCAGTCGCCAATCAATAGCGCGAGAGCGCGAGAGGTCGCCAGAGAAGTCCGCGAGAGGAGAAGTCATCAATAGGAGAAGTCATCAATAGGTCGCCACGCGAGAGATCAATAGGTCGCCAGAGAAGTCGAGAAGTCCGCGAGAGATCAATAGGAGAAGTCATCAATAGGAGAAGTCGAGAAGTCATCAATAGATCAATAGGCGAACTTGCGAACTTATCAATAGGCGAACTTGTCGCCACGCGAGAGGTCGCCAATCAATAGGCGAACTTATCAATAGGTCGCCAGAGAAGTCCGCGAGAGCGCGAGAGCGCGAGAGGTCGCCAGTCGCCAGAGAAGTCATCAATAGGTCGCCAGTCGCCAGAGAAGTCGCGAACTTCGCGAGAGGTCGCCAGCGAACTTGAGAAGTCATCAATAGCGCGAGAGGTCGCCAGCGAACTTGAGAAGTCCGCGAGAGGTCGCCAGCGAACTTGCGAACTTGAGAAGTCGCGAACTTGAGAAGTCGTCGCCAATCAATAGCGCGAGAGGCGAACTTGAGAAGTCGTCGCCACGCGAGAGGAGAAGTCCGCGAGAGATCAATAGGTCGCCAGTCGCCACGCGAGAGCGCGAGAGCGCGAGAGGAGAAGTCGAGAAGTCGCGAACTTCGCGAGAGATCAATAGGCGAACTTATCAATAG'\n",
    "k = 12\n",
    "tmp = fw(txt,k)\n",
    "for k in tmp:\n",
    "    print(k)\n",
    "    print (\" \")"
   ]
  },
  {
   "cell_type": "code",
   "execution_count": null,
   "metadata": {
    "collapsed": true
   },
   "outputs": [],
   "source": []
  }
 ],
 "metadata": {
  "kernelspec": {
   "display_name": "Python 3",
   "language": "python",
   "name": "python3"
  },
  "language_info": {
   "codemirror_mode": {
    "name": "ipython",
    "version": 3
   },
   "file_extension": ".py",
   "mimetype": "text/x-python",
   "name": "python",
   "nbconvert_exporter": "python",
   "pygments_lexer": "ipython3",
   "version": "3.6.0"
  }
 },
 "nbformat": 4,
 "nbformat_minor": 2
}
